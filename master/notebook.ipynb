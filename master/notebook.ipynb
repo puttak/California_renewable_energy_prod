{
 "cells": [
  {
   "cell_type": "code",
   "execution_count": 2,
   "metadata": {},
   "outputs": [],
   "source": [
    "import seaborn as sn\n",
    "import pandas as pd"
   ]
  },
  {
   "cell_type": "markdown",
   "metadata": {},
   "source": [
    "# California Renewable Energy Production"
   ]
  },
  {
   "cell_type": "markdown",
   "metadata": {},
   "source": [
    "To Do:\n",
    "\n",
    "1) Create an analysis plan.\n",
    "\n",
    "    - How will we calculate the radiance and weather above each solar plant?\n",
    "    - Will we generalize statewide, county wide, or 4 km^2 ?\n",
    "    \n",
    "2) Clean and organize the data.\n",
    "\n",
    "    - Given the granularity of the data we would like to use, drop the data that we don't want and store it in a new dataframe.\n",
    "    - Clean Nan and null values\n",
    "    - Run summaries on dataframes to make sure the \n",
    "    \n",
    "\n",
    "\n",
    "3) "
   ]
  },
  {
   "cell_type": "code",
   "execution_count": null,
   "metadata": {},
   "outputs": [],
   "source": []
  }
 ],
 "metadata": {
  "kernelspec": {
   "display_name": "Python 3",
   "language": "python",
   "name": "python3"
  },
  "language_info": {
   "codemirror_mode": {
    "name": "ipython",
    "version": 3
   },
   "file_extension": ".py",
   "mimetype": "text/x-python",
   "name": "python",
   "nbconvert_exporter": "python",
   "pygments_lexer": "ipython3",
   "version": "3.7.1"
  }
 },
 "nbformat": 4,
 "nbformat_minor": 2
}
