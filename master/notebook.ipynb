{
 "cells": [
  {
   "cell_type": "code",
   "execution_count": 1,
   "metadata": {},
   "outputs": [],
   "source": [
    "import seaborn as sn\n",
    "import pandas as pd"
   ]
  },
  {
   "cell_type": "markdown",
   "metadata": {},
   "source": [
    "# California Renewable Energy Production"
   ]
  },
  {
   "cell_type": "markdown",
   "metadata": {},
   "source": [
    "To Do:\n",
    "\n",
    "1) Create an analysis plan.\n",
    "\n",
    "    - How will we calculate the radiance and weather above each solar plant?\n",
    "    - Will we generalize statewide, county wide, or 4 km^2 ?\n",
    "    \n",
    "2) Clean and organize the data.\n",
    "\n",
    "    - Given the granularity of the data we would like to use, drop the data that we don't want and store it in a new dataframe.\n",
    "    - Clean Nan and null values\n",
    "    - Run summaries on dataframes to make sure the data doesn't have outliers from recording mistakes.\n",
    "  \n",
    "3) Visualize the data.\n",
    "\n",
    "    - Plot each column or critical values to see general trends and begin exploratory analysis."
   ]
  },
  {
   "cell_type": "markdown",
   "metadata": {},
   "source": [
    "# Solar Data\n",
    "I went through and cleaned the data. This was pretty intense on my GPU and took a long time so I've pickled the dataframe. From here on out we will just load in the pickled pandas dataframe instead running all the computations for cleaning.\n",
    "\n",
    "Below is the code, but basically:\n",
    "\n",
    "1) Checked for unique values and dropped useless rows.\n",
    "\n",
    "2) Converted LocalDateTime to hold datetime objects.\n",
    "\n",
    "3) Converted Datetime to the index of the dataframe so that we may merge the weather data to this dataframe."
   ]
  },
  {
   "cell_type": "code",
   "execution_count": 2,
   "metadata": {},
   "outputs": [],
   "source": [
    "#solar = pd.read_csv(\"PGE_No_Load_StartThru2016Q4.csv\")\n",
    "#solar.head(10)\n",
    "#solar[\"ID\"].unique()\n",
    "#solar[\"Flag\"].unique()\n",
    "#solar[\"Inctv_type\"].unique()\n",
    "#solar = solar.drop(columns = \"Inctv_type\")\n",
    "#solar[\"LocalDateTime\"] = pd.to_datetime(solar[\"LocalDateTime\"], format='%d%b%y:%H:%M:%S')\n",
    "#solar[\"pa\"].unique()\n",
    "#solar = solar.drop(columns =\"pa\")\n",
    "#solar.index = solar[\"LocalDateTime\"]\n",
    "#solar = solar.drop(columns = \"LocalDateTime\")\n",
    "#solar.to_pickle(\"./solar.pkl\")"
   ]
  },
  {
   "cell_type": "code",
   "execution_count": 5,
   "metadata": {},
   "outputs": [],
   "source": [
    "solar_cleaned = pd.read_pickle(\"./solar.pkl\")"
   ]
  },
  {
   "cell_type": "code",
   "execution_count": 6,
   "metadata": {},
   "outputs": [
    {
     "data": {
      "text/html": [
       "<div>\n",
       "<style scoped>\n",
       "    .dataframe tbody tr th:only-of-type {\n",
       "        vertical-align: middle;\n",
       "    }\n",
       "\n",
       "    .dataframe tbody tr th {\n",
       "        vertical-align: top;\n",
       "    }\n",
       "\n",
       "    .dataframe thead th {\n",
       "        text-align: right;\n",
       "    }\n",
       "</style>\n",
       "<table border=\"1\" class=\"dataframe\">\n",
       "  <thead>\n",
       "    <tr style=\"text-align: right;\">\n",
       "      <th></th>\n",
       "      <th>ID</th>\n",
       "      <th>kWh</th>\n",
       "      <th>Flag</th>\n",
       "    </tr>\n",
       "    <tr>\n",
       "      <th>LocalDateTime</th>\n",
       "      <th></th>\n",
       "      <th></th>\n",
       "      <th></th>\n",
       "    </tr>\n",
       "  </thead>\n",
       "  <tbody>\n",
       "    <tr>\n",
       "      <td>2010-08-26 00:00:00</td>\n",
       "      <td>A-1611</td>\n",
       "      <td>0.01625</td>\n",
       "      <td>M</td>\n",
       "    </tr>\n",
       "    <tr>\n",
       "      <td>2010-08-26 00:15:00</td>\n",
       "      <td>A-1611</td>\n",
       "      <td>0.01650</td>\n",
       "      <td>M</td>\n",
       "    </tr>\n",
       "    <tr>\n",
       "      <td>2010-08-26 00:30:00</td>\n",
       "      <td>A-1611</td>\n",
       "      <td>0.01625</td>\n",
       "      <td>M</td>\n",
       "    </tr>\n",
       "    <tr>\n",
       "      <td>2010-08-26 00:45:00</td>\n",
       "      <td>A-1611</td>\n",
       "      <td>0.01600</td>\n",
       "      <td>M</td>\n",
       "    </tr>\n",
       "    <tr>\n",
       "      <td>2010-08-26 01:00:00</td>\n",
       "      <td>A-1611</td>\n",
       "      <td>0.01600</td>\n",
       "      <td>M</td>\n",
       "    </tr>\n",
       "  </tbody>\n",
       "</table>\n",
       "</div>"
      ],
      "text/plain": [
       "                         ID      kWh Flag\n",
       "LocalDateTime                            \n",
       "2010-08-26 00:00:00  A-1611  0.01625    M\n",
       "2010-08-26 00:15:00  A-1611  0.01650    M\n",
       "2010-08-26 00:30:00  A-1611  0.01625    M\n",
       "2010-08-26 00:45:00  A-1611  0.01600    M\n",
       "2010-08-26 01:00:00  A-1611  0.01600    M"
      ]
     },
     "execution_count": 6,
     "metadata": {},
     "output_type": "execute_result"
    }
   ],
   "source": [
    "solar_cleaned.head()"
   ]
  },
  {
   "cell_type": "code",
   "execution_count": 24,
   "metadata": {},
   "outputs": [],
   "source": [
    "plant_lookup_df = pd.read_csv(\"./WorkingDataSet_11-20-2019.csv\")"
   ]
  },
  {
   "cell_type": "code",
   "execution_count": 25,
   "metadata": {},
   "outputs": [],
   "source": [
    "#plant_lookup_df = plant_lookup_df.drop(columns = [\"MASH Track 1A Incentive Amount\", \"MASH Track 1B Incentive Amount\",\n",
    "#                                                  \"MASH Track 2 Incentive Amount\", \"MASH Track 1A % Capacity\", \n",
    "#                                                  \"MASH Track 1B % Capacity\"])\n"
   ]
  },
  {
   "cell_type": "code",
   "execution_count": 53,
   "metadata": {},
   "outputs": [],
   "source": [
    "A_1611_project = plant_lookup_df.loc[plant_lookup_df['Application Number'] == 'PGE-CSI-00392']"
   ]
  },
  {
   "cell_type": "code",
   "execution_count": 52,
   "metadata": {},
   "outputs": [
    {
     "data": {
      "text/html": [
       "<div>\n",
       "<style scoped>\n",
       "    .dataframe tbody tr th:only-of-type {\n",
       "        vertical-align: middle;\n",
       "    }\n",
       "\n",
       "    .dataframe tbody tr th {\n",
       "        vertical-align: top;\n",
       "    }\n",
       "\n",
       "    .dataframe thead th {\n",
       "        text-align: right;\n",
       "    }\n",
       "</style>\n",
       "<table border=\"1\" class=\"dataframe\">\n",
       "  <thead>\n",
       "    <tr style=\"text-align: right;\">\n",
       "      <th></th>\n",
       "      <th>Host Customer Physical Zip Code</th>\n",
       "      <th>Host Customer Physical Address County</th>\n",
       "      <th>Host Customer Physical Address City</th>\n",
       "    </tr>\n",
       "  </thead>\n",
       "  <tbody>\n",
       "    <tr>\n",
       "      <td>65575</td>\n",
       "      <td>94931</td>\n",
       "      <td>Sonoma</td>\n",
       "      <td>Cotati</td>\n",
       "    </tr>\n",
       "  </tbody>\n",
       "</table>\n",
       "</div>"
      ],
      "text/plain": [
       "       Host Customer Physical Zip Code Host Customer Physical Address County  \\\n",
       "65575                            94931                                Sonoma   \n",
       "\n",
       "      Host Customer Physical Address City  \n",
       "65575                              Cotati  "
      ]
     },
     "execution_count": 52,
     "metadata": {},
     "output_type": "execute_result"
    }
   ],
   "source": [
    "A_1611_project[['Host Customer Physical Zip Code','Host Customer Physical Address County','Host Customer Physical Address City']]"
   ]
  },
  {
   "cell_type": "code",
   "execution_count": 54,
   "metadata": {},
   "outputs": [],
   "source": [
    "#solar_cleaned['ID'].unique()"
   ]
  },
  {
   "cell_type": "code",
   "execution_count": 48,
   "metadata": {},
   "outputs": [
    {
     "data": {
      "text/html": [
       "<div>\n",
       "<style scoped>\n",
       "    .dataframe tbody tr th:only-of-type {\n",
       "        vertical-align: middle;\n",
       "    }\n",
       "\n",
       "    .dataframe tbody tr th {\n",
       "        vertical-align: top;\n",
       "    }\n",
       "\n",
       "    .dataframe thead th {\n",
       "        text-align: right;\n",
       "    }\n",
       "</style>\n",
       "<table border=\"1\" class=\"dataframe\">\n",
       "  <thead>\n",
       "    <tr style=\"text-align: right;\">\n",
       "      <th></th>\n",
       "      <th>ID</th>\n",
       "      <th>kWh</th>\n",
       "      <th>Flag</th>\n",
       "    </tr>\n",
       "    <tr>\n",
       "      <th>LocalDateTime</th>\n",
       "      <th></th>\n",
       "      <th></th>\n",
       "      <th></th>\n",
       "    </tr>\n",
       "  </thead>\n",
       "  <tbody>\n",
       "    <tr>\n",
       "      <td>2010-08-26 00:00:00</td>\n",
       "      <td>A-1611</td>\n",
       "      <td>0.01625</td>\n",
       "      <td>M</td>\n",
       "    </tr>\n",
       "    <tr>\n",
       "      <td>2010-08-26 00:15:00</td>\n",
       "      <td>A-1611</td>\n",
       "      <td>0.01650</td>\n",
       "      <td>M</td>\n",
       "    </tr>\n",
       "    <tr>\n",
       "      <td>2010-08-26 00:30:00</td>\n",
       "      <td>A-1611</td>\n",
       "      <td>0.01625</td>\n",
       "      <td>M</td>\n",
       "    </tr>\n",
       "    <tr>\n",
       "      <td>2010-08-26 00:45:00</td>\n",
       "      <td>A-1611</td>\n",
       "      <td>0.01600</td>\n",
       "      <td>M</td>\n",
       "    </tr>\n",
       "    <tr>\n",
       "      <td>2010-08-26 01:00:00</td>\n",
       "      <td>A-1611</td>\n",
       "      <td>0.01600</td>\n",
       "      <td>M</td>\n",
       "    </tr>\n",
       "    <tr>\n",
       "      <td>...</td>\n",
       "      <td>...</td>\n",
       "      <td>...</td>\n",
       "      <td>...</td>\n",
       "    </tr>\n",
       "    <tr>\n",
       "      <td>2016-12-31 22:45:00</td>\n",
       "      <td>A-1611</td>\n",
       "      <td>0.01500</td>\n",
       "      <td>M</td>\n",
       "    </tr>\n",
       "    <tr>\n",
       "      <td>2016-12-31 23:00:00</td>\n",
       "      <td>A-1611</td>\n",
       "      <td>0.01500</td>\n",
       "      <td>M</td>\n",
       "    </tr>\n",
       "    <tr>\n",
       "      <td>2016-12-31 23:15:00</td>\n",
       "      <td>A-1611</td>\n",
       "      <td>0.01500</td>\n",
       "      <td>M</td>\n",
       "    </tr>\n",
       "    <tr>\n",
       "      <td>2016-12-31 23:30:00</td>\n",
       "      <td>A-1611</td>\n",
       "      <td>0.01525</td>\n",
       "      <td>M</td>\n",
       "    </tr>\n",
       "    <tr>\n",
       "      <td>2016-12-31 23:45:00</td>\n",
       "      <td>A-1611</td>\n",
       "      <td>0.01525</td>\n",
       "      <td>M</td>\n",
       "    </tr>\n",
       "  </tbody>\n",
       "</table>\n",
       "<p>166508 rows × 3 columns</p>\n",
       "</div>"
      ],
      "text/plain": [
       "                         ID      kWh Flag\n",
       "LocalDateTime                            \n",
       "2010-08-26 00:00:00  A-1611  0.01625    M\n",
       "2010-08-26 00:15:00  A-1611  0.01650    M\n",
       "2010-08-26 00:30:00  A-1611  0.01625    M\n",
       "2010-08-26 00:45:00  A-1611  0.01600    M\n",
       "2010-08-26 01:00:00  A-1611  0.01600    M\n",
       "...                     ...      ...  ...\n",
       "2016-12-31 22:45:00  A-1611  0.01500    M\n",
       "2016-12-31 23:00:00  A-1611  0.01500    M\n",
       "2016-12-31 23:15:00  A-1611  0.01500    M\n",
       "2016-12-31 23:30:00  A-1611  0.01525    M\n",
       "2016-12-31 23:45:00  A-1611  0.01525    M\n",
       "\n",
       "[166508 rows x 3 columns]"
      ]
     },
     "execution_count": 48,
     "metadata": {},
     "output_type": "execute_result"
    }
   ],
   "source": [
    "solar_cleaned.loc[solar_cleaned['ID'] == 'A-1611']"
   ]
  },
  {
   "cell_type": "code",
   "execution_count": null,
   "metadata": {},
   "outputs": [],
   "source": [
    "plant_lookup_df.loc[plant_lookup_df['Application Number'] == 'PGE-CSI-00392']"
   ]
  }
 ],
 "metadata": {
  "kernelspec": {
   "display_name": "Python 3",
   "language": "python",
   "name": "python3"
  },
  "language_info": {
   "codemirror_mode": {
    "name": "ipython",
    "version": 3
   },
   "file_extension": ".py",
   "mimetype": "text/x-python",
   "name": "python",
   "nbconvert_exporter": "python",
   "pygments_lexer": "ipython3",
   "version": "3.7.4"
  }
 },
 "nbformat": 4,
 "nbformat_minor": 2
}
