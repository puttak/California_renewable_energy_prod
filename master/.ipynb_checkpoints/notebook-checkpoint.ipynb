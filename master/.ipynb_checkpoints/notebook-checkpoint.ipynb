{
 "cells": [
  {
   "cell_type": "code",
   "execution_count": 1,
   "metadata": {},
   "outputs": [],
   "source": [
    "import seaborn as sn\n",
    "import pandas as pd"
   ]
  },
  {
   "cell_type": "markdown",
   "metadata": {},
   "source": [
    "# California Renewable Energy Production"
   ]
  },
  {
   "cell_type": "markdown",
   "metadata": {},
   "source": [
    "To Do:\n",
    "\n",
    "1) Create an analysis plan.\n",
    "\n",
    "    - How will we calculate the radiance and weather above each solar plant?\n",
    "    - Will we generalize statewide, county wide, or 4 km^2 ?\n",
    "    \n",
    "2) Clean and organize the data.\n",
    "\n",
    "    - Given the granularity of the data we would like to use, drop the data that we don't want and store it in a new dataframe.\n",
    "    - Clean Nan and null values\n",
    "    - Run summaries on dataframes to make sure the data doesn't have outliers from recording mistakes.\n",
    "  \n",
    "3) Visualize the data.\n",
    "\n",
    "    - Plot each column or critical values to see general trends and begin exploratory analysis."
   ]
  },
  {
   "cell_type": "markdown",
   "metadata": {},
   "source": [
    "# Solar Data\n",
    "I went through and cleaned the data. This was pretty intense on my GPU and took a long time so I've pickled the dataframe. From here on out we will just load in the pickled pandas dataframe instead running all the computations for cleaning.\n",
    "\n",
    "Below is the code, but basically:\n",
    "\n",
    "1) Checked for unique values and dropped useless rows.\n",
    "\n",
    "2) Converted LocalDateTime to hold datetime objects.\n",
    "\n",
    "3) Converted Datetime to the index of the dataframe so that we may merge the weather data to this dataframe."
   ]
  },
  {
   "cell_type": "code",
   "execution_count": 2,
   "metadata": {},
   "outputs": [],
   "source": [
    "#solar = pd.read_csv(\"PGE_No_Load_StartThru2016Q4.csv\")\n",
    "#solar.head(10)\n",
    "#solar[\"ID\"].unique()\n",
    "#solar[\"Flag\"].unique()\n",
    "#solar[\"Inctv_type\"].unique()\n",
    "#solar = solar.drop(columns = \"Inctv_type\")\n",
    "#solar[\"LocalDateTime\"] = pd.to_datetime(solar[\"LocalDateTime\"], format='%d%b%y:%H:%M:%S')\n",
    "#solar[\"pa\"].unique()\n",
    "#solar = solar.drop(columns =\"pa\")\n",
    "#solar.index = solar[\"LocalDateTime\"]\n",
    "#solar = solar.drop(columns = \"LocalDateTime\")\n",
    "#solar.to_pickle(\"./solar.pkl\")"
   ]
  },
  {
   "cell_type": "code",
   "execution_count": 5,
   "metadata": {},
   "outputs": [],
   "source": [
    "solar_cleaned = pd.read_pickle(\"./solar.pkl\")"
   ]
  },
  {
   "cell_type": "code",
   "execution_count": 6,
   "metadata": {},
   "outputs": [
    {
     "data": {
      "text/html": [
       "<div>\n",
       "<style scoped>\n",
       "    .dataframe tbody tr th:only-of-type {\n",
       "        vertical-align: middle;\n",
       "    }\n",
       "\n",
       "    .dataframe tbody tr th {\n",
       "        vertical-align: top;\n",
       "    }\n",
       "\n",
       "    .dataframe thead th {\n",
       "        text-align: right;\n",
       "    }\n",
       "</style>\n",
       "<table border=\"1\" class=\"dataframe\">\n",
       "  <thead>\n",
       "    <tr style=\"text-align: right;\">\n",
       "      <th></th>\n",
       "      <th>ID</th>\n",
       "      <th>kWh</th>\n",
       "      <th>Flag</th>\n",
       "    </tr>\n",
       "    <tr>\n",
       "      <th>LocalDateTime</th>\n",
       "      <th></th>\n",
       "      <th></th>\n",
       "      <th></th>\n",
       "    </tr>\n",
       "  </thead>\n",
       "  <tbody>\n",
       "    <tr>\n",
       "      <td>2010-08-26 00:00:00</td>\n",
       "      <td>A-1611</td>\n",
       "      <td>0.01625</td>\n",
       "      <td>M</td>\n",
       "    </tr>\n",
       "    <tr>\n",
       "      <td>2010-08-26 00:15:00</td>\n",
       "      <td>A-1611</td>\n",
       "      <td>0.01650</td>\n",
       "      <td>M</td>\n",
       "    </tr>\n",
       "    <tr>\n",
       "      <td>2010-08-26 00:30:00</td>\n",
       "      <td>A-1611</td>\n",
       "      <td>0.01625</td>\n",
       "      <td>M</td>\n",
       "    </tr>\n",
       "    <tr>\n",
       "      <td>2010-08-26 00:45:00</td>\n",
       "      <td>A-1611</td>\n",
       "      <td>0.01600</td>\n",
       "      <td>M</td>\n",
       "    </tr>\n",
       "    <tr>\n",
       "      <td>2010-08-26 01:00:00</td>\n",
       "      <td>A-1611</td>\n",
       "      <td>0.01600</td>\n",
       "      <td>M</td>\n",
       "    </tr>\n",
       "  </tbody>\n",
       "</table>\n",
       "</div>"
      ],
      "text/plain": [
       "                         ID      kWh Flag\n",
       "LocalDateTime                            \n",
       "2010-08-26 00:00:00  A-1611  0.01625    M\n",
       "2010-08-26 00:15:00  A-1611  0.01650    M\n",
       "2010-08-26 00:30:00  A-1611  0.01625    M\n",
       "2010-08-26 00:45:00  A-1611  0.01600    M\n",
       "2010-08-26 01:00:00  A-1611  0.01600    M"
      ]
     },
     "execution_count": 6,
     "metadata": {},
     "output_type": "execute_result"
    }
   ],
   "source": [
    "solar_cleaned.head()"
   ]
  },
  {
   "cell_type": "code",
   "execution_count": 24,
   "metadata": {},
   "outputs": [],
   "source": [
    "plant_lookup_df = pd.read_csv(\"./WorkingDataSet_11-20-2019.csv\")"
   ]
  },
  {
   "cell_type": "code",
   "execution_count": 25,
   "metadata": {},
   "outputs": [],
   "source": [
    "#plant_lookup_df = plant_lookup_df.drop(columns = [\"MASH Track 1A Incentive Amount\", \"MASH Track 1B Incentive Amount\",\n",
    "#                                                  \"MASH Track 2 Incentive Amount\", \"MASH Track 1A % Capacity\", \n",
    "#                                                  \"MASH Track 1B % Capacity\"])\n"
   ]
  },
  {
   "cell_type": "code",
   "execution_count": 40,
   "metadata": {},
   "outputs": [],
   "source": [
    "A_1611_project = plant_lookup_df.loc[plant_lookup_df['Application Number'] == 'A-1611']"
   ]
  },
  {
   "cell_type": "code",
   "execution_count": 41,
   "metadata": {},
   "outputs": [
    {
     "data": {
      "text/html": [
       "<div>\n",
       "<style scoped>\n",
       "    .dataframe tbody tr th:only-of-type {\n",
       "        vertical-align: middle;\n",
       "    }\n",
       "\n",
       "    .dataframe tbody tr th {\n",
       "        vertical-align: top;\n",
       "    }\n",
       "\n",
       "    .dataframe thead th {\n",
       "        text-align: right;\n",
       "    }\n",
       "</style>\n",
       "<table border=\"1\" class=\"dataframe\">\n",
       "  <thead>\n",
       "    <tr style=\"text-align: right;\">\n",
       "      <th></th>\n",
       "      <th>Host Customer Physical Zip Code</th>\n",
       "      <th>Host Customer Physical Address County</th>\n",
       "      <th>Host Customer Physical Address City</th>\n",
       "    </tr>\n",
       "  </thead>\n",
       "  <tbody>\n",
       "  </tbody>\n",
       "</table>\n",
       "</div>"
      ],
      "text/plain": [
       "Empty DataFrame\n",
       "Columns: [Host Customer Physical Zip Code, Host Customer Physical Address County, Host Customer Physical Address City]\n",
       "Index: []"
      ]
     },
     "execution_count": 41,
     "metadata": {},
     "output_type": "execute_result"
    }
   ],
   "source": [
    "A_1611_project[['Host Customer Physical Zip Code','Host Customer Physical Address County','Host Customer Physical Address City']]"
   ]
  },
  {
   "cell_type": "code",
   "execution_count": 43,
   "metadata": {},
   "outputs": [
    {
     "data": {
      "text/html": [
       "<div>\n",
       "<style scoped>\n",
       "    .dataframe tbody tr th:only-of-type {\n",
       "        vertical-align: middle;\n",
       "    }\n",
       "\n",
       "    .dataframe tbody tr th {\n",
       "        vertical-align: top;\n",
       "    }\n",
       "\n",
       "    .dataframe thead th {\n",
       "        text-align: right;\n",
       "    }\n",
       "</style>\n",
       "<table border=\"1\" class=\"dataframe\">\n",
       "  <thead>\n",
       "    <tr style=\"text-align: right;\">\n",
       "      <th></th>\n",
       "      <th>Application Number</th>\n",
       "      <th>Program Administrator</th>\n",
       "      <th>Program</th>\n",
       "      <th>Incentive Design</th>\n",
       "      <th>Incentive Type</th>\n",
       "      <th>Incentive Step</th>\n",
       "      <th>Incentive Amount</th>\n",
       "      <th>Total Cost</th>\n",
       "      <th>Nameplate Rating</th>\n",
       "      <th>CEC PTC Rating</th>\n",
       "      <th>...</th>\n",
       "      <th>CEC PTC Rating Single-Axis Tracking</th>\n",
       "      <th>CEC PTC Rating Dual-Axis Tracking</th>\n",
       "      <th>CSI Rating Fixed</th>\n",
       "      <th>CSI Rating Single-Axis Tracking</th>\n",
       "      <th>CSI Rating Dual-Axis Tracking</th>\n",
       "      <th>MASH Track 1A Incentive Amount</th>\n",
       "      <th>MASH Track 1B Incentive Amount</th>\n",
       "      <th>MASH Track 2 Incentive Amount</th>\n",
       "      <th>MASH Track 1A % Capacity</th>\n",
       "      <th>MASH Track 1B % Capacity</th>\n",
       "    </tr>\n",
       "  </thead>\n",
       "  <tbody>\n",
       "  </tbody>\n",
       "</table>\n",
       "<p>0 rows × 124 columns</p>\n",
       "</div>"
      ],
      "text/plain": [
       "Empty DataFrame\n",
       "Columns: [Application Number, Program Administrator, Program, Incentive Design, Incentive Type, Incentive Step, Incentive Amount, Total Cost, Nameplate Rating, CEC PTC Rating, Design Factor, CSI Rating, Current Incentive Application Status, Cancellation Reason, Host Customer NAICS Code, System Owner Sector, System Owner NAICS Code, Host Customer Sector, Host Customer Physical Address City, Host Customer Physical Address County, Host Customer Physical Address State, Host Customer Physical Zip Code, First New Reservation Request Date, First Online Reservation Request Submitted Date, First Reservation Request Review Date, First Pending RFP Date, First RFP Review (Gov't/Non-Profit only) Date, First Suspended - RFP Review Date, First Reservation Reserved Date, First Online Proof of Project Milestones Submitted Date, First Proof of Project Milestones Review Date, First Suspended - Milestone Review Date, First Suspended - Reservation Review Date, First Confirmed Reservation Date, First Online Incentive Claim Request Submitted Date, First Incentive Claim Request Review Date, First Suspended - Incentive Claim Request Review Date, First Pending Payment Date, First PBI - In Payment Date, First Completed Date, First Withdrawn Date, First Cancelled Date, First Site Transferred Date, First System Removed Date, Solar Contractor Company Name, Contractor License Number, Seller Company Name, 3rd Party Owner, Is a PBI Buyout Application, PV Module#1 Manufacturer, PV Module#2 Manufacturer, PV Module#3 Manufacturer, PV Module#4 Manufacturer, PV Module#5 Manufacturer, PV Module#6 Manufacturer, PV Module#7 Manufacturer, PV Module#8 Manufacturer, PV Module#9 Manufacturer, PV Module#1 Model, PV Module#2 Model, PV Module#3 Model, PV Module#4 Model, PV Module#5 Model, PV Module#6 Model, PV Module#7 Model, PV Module#8 Model, PV Module#9 Model, PV Module#1 Quantity, PV Module#2 Quantity, PV Module#3 Quantity, PV Module#4 Quantity, PV Module#5 Quantity, PV Module#6 Quantity, PV Module#7 Quantity, PV Module#8 Quantity, PV Module#9 Quantity, Inverter#1 Manufacturer, Inverter#2 Manufacturer, Inverter#3 Manufacturer, Inverter#4 Manufacturer, Inverter#5 Manufacturer, Inverter#6 Manufacturer, Inverter#7 Manufacturer, Inverter#8 Manufacturer, Inverter#9 Manufacturer, Inverter#10 Manufacturer, Inverter#1 Model, Inverter#2 Model, Inverter#3 Model, Inverter#4 Model, Inverter#5 Model, Inverter#6 Model, Inverter#7 Model, Inverter#8 Model, Inverter#9 Model, Inverter#10 Model, Inverter#1 Quantity, Inverter#2 Quantity, Inverter#3 Quantity, Inverter#4 Quantity, ...]\n",
       "Index: []\n",
       "\n",
       "[0 rows x 124 columns]"
      ]
     },
     "execution_count": 43,
     "metadata": {},
     "output_type": "execute_result"
    }
   ],
   "source": [
    "A_1611_project"
   ]
  },
  {
   "cell_type": "code",
   "execution_count": null,
   "metadata": {},
   "outputs": [],
   "source": []
  }
 ],
 "metadata": {
  "kernelspec": {
   "display_name": "Python 3",
   "language": "python",
   "name": "python3"
  },
  "language_info": {
   "codemirror_mode": {
    "name": "ipython",
    "version": 3
   },
   "file_extension": ".py",
   "mimetype": "text/x-python",
   "name": "python",
   "nbconvert_exporter": "python",
   "pygments_lexer": "ipython3",
   "version": "3.7.4"
  }
 },
 "nbformat": 4,
 "nbformat_minor": 2
}
